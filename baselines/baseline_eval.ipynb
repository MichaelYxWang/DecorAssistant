{
  "nbformat": 4,
  "nbformat_minor": 0,
  "metadata": {
    "colab": {
      "name": "baseline_eval.ipynb",
      "provenance": [],
      "collapsed_sections": []
    },
    "kernelspec": {
      "name": "python3",
      "display_name": "Python 3"
    },
    "language_info": {
      "name": "python"
    }
  },
  "cells": [
    {
      "cell_type": "code",
      "metadata": {
        "id": "ir2_q7vunRGz"
      },
      "source": [
        "import math\n",
        "class Evaluator:\n",
        "    def __init__(self, GroundTruth):\n",
        "      self.GroundTruth = GroundTruth\n",
        "\n",
        "    def NDCG_Eval(self, rankresult, topk):\n",
        "      sortedRankResult = sorted(rankresult.items(), key = lambda x:x[1], reverse=True)\n",
        "      DCGScore = 0\n",
        "      result = []\n",
        "      for i, item in enumerate(sortedRankResult[:topk]):\n",
        "        if item[0] in self.GroundTruth:\n",
        "          result.append((item, i))\n",
        "      DCGScore = sum([item[0][1]/math.log(item[1]+2, 2) for item in result])\n",
        "      IDCGScore = sum([1/math.log(i+2,2) for i in range(topk)])\n",
        "      NDCG = DCGScore / IDCGScore\n",
        "\n",
        "      return NDCG\n",
        "    \n",
        "    def Score_Eval(self, rankresult, topk):\n",
        "      sortedRankResult = sorted(rankresult.items(), key = lambda x:x[1], reverse=True)\n",
        "      return sum(i[1] for i in sortedRankResult[:topk] if i[0] in self.GroundTruth) / topk\n",
        "    \n",
        "    def Precision(self, rankresult, topk):\n",
        "      sortedRankResult = sorted(rankresult.items(), key = lambda x:x[1], reverse=True)\n",
        "      topkresult = sortedRankResult[:topk]\n",
        "      return len([i for i in sortedRankResult[:topk] if i[0] in self.GroundTruth]) / len(topkresult)\n",
        "\n",
        "    def Recall(self, rankresult, topk):\n",
        "      sortedRankResult = sorted(rankresult.items(), key = lambda x:x[1], reverse=True)\n",
        "      topkresult = sortedRankResult[:topk]\n",
        "      return len([i for i in sortedRankResult[:topk] if i[0] in self.GroundTruth]) / len(self.GroundTruth)\n",
        "    \n",
        "    def FValue(self, rankresult, topk):\n",
        "      precision = self.Precision(rankresult, topk)\n",
        "      recall = self.Recall(rankresult, topk)\n",
        "      return 2 * precision * recall / (precision + recall)\n",
        "      "
      ],
      "execution_count": 30,
      "outputs": []
    },
    {
      "cell_type": "code",
      "metadata": {
        "colab": {
          "base_uri": "https://localhost:8080/"
        },
        "id": "5BtU351HrEJq",
        "outputId": "418e614c-7f53-4127-bfc4-be31b55efb0b"
      },
      "source": [
        "rankresult = {'001.001.01': 0.5, '002.002.02': 0.3, '003.003.03': 0.8}\n",
        "GT = ['001.001.01', '003.003.03', '004.004.04', '0.5']\n",
        "eval = Evaluator(GT)\n",
        "print(eval.NDCG_Eval(rankresult, 3))\n",
        "print(eval.Score_Eval(rankresult, 3))\n",
        "print(eval.Precision(rankresult, 3))\n",
        "print(eval.Recall(rankresult, 3))\n",
        "print(eval.FValue(rankresult, 3))"
      ],
      "execution_count": 31,
      "outputs": [
        {
          "output_type": "stream",
          "name": "stdout",
          "text": [
            "0.5234639363011379\n",
            "0.43333333333333335\n",
            "0.6666666666666666\n",
            "0.5\n",
            "0.5714285714285715\n"
          ]
        }
      ]
    },
    {
      "cell_type": "code",
      "metadata": {
        "colab": {
          "base_uri": "https://localhost:8080/"
        },
        "id": "Vfpr8ALDyFBl",
        "outputId": "14b3be5c-9cc4-49e8-c7bf-b4223c43bcd7"
      },
      "source": [
        "rankresult = {'001.660.95': 0.30868789553642273,\n",
        " '003.218.69': 0.3463829755783081,\n",
        " '003.288.37': 0.7760784029960632,\n",
        " '101.327.88': 0.3226427733898163,\n",
        " '102.628.31': 0.6723896861076355,\n",
        " '200.474.50': 0.8119797110557556,\n",
        " '201.932.67': 0.640713095664978,\n",
        " '203.086.97': 0.4446046054363251,\n",
        " '203.323.53': 0.8891764283180237,\n",
        " '301.933.18': 0.7805899381637573,\n",
        " '302.980.23': 0.5240936875343323,\n",
        " '303.288.31': 0.7822014093399048,\n",
        " '403.288.40': 0.7499198317527771,\n",
        " '491.234.05': 0.4542231559753418,\n",
        " '501.158.62': 0.5011304616928101,\n",
        " '501.711.22': 0.6947008967399597,\n",
        " '502.675.58': 0.4075872302055359,\n",
        " '502.831.05': 0.5570210218429565,\n",
        " '503.323.23': 0.412087082862854,\n",
        " '503.334.07': 0.767254114151001,\n",
        " '503.334.12': 0.3457525372505188,\n",
        " '600.940.72': 0.7108875513076782,\n",
        " '603.303.47': 0.3702891170978546,\n",
        " '700.914.12': 0.5345611572265625,\n",
        " '703.323.55': 0.8891229033470154,\n",
        " '802.290.08': 0.3197900950908661,\n",
        " '802.538.09': 0.7274831533432007,\n",
        " '802.962.48': 0.44906315207481384,\n",
        " '803.292.44': 0.6919664144515991,\n",
        " '803.324.68': 0.7207645773887634,\n",
        " '901.766.41': 0.48255327343940735,\n",
        " '902.257.93': 0.49876880645751953,\n",
        " '902.290.17': 0.35109320282936096,\n",
        " '902.962.62': 0.8294358253479004,\n",
        " '902.978.36': 0.7294247150421143,\n",
        " '902.978.41': 0.7143055200576782,\n",
        " '903.296.58': 0.539664089679718}\n",
        "\n",
        "GT = ['503.334.12', '803.324.68', '902.257.93', '303.288.31', '02.290.17']\n",
        "eval = Evaluator(GT)\n",
        "print(eval.NDCG_Eval(rankresult, 10))\n",
        "print(eval.Score_Eval(rankresult, 10))\n",
        "print(eval.Precision(rankresult, 10))\n",
        "print(eval.Recall(rankresult, 10))\n",
        "print(eval.FValue(rankresult, 10))"
      ],
      "execution_count": 33,
      "outputs": [
        {
          "output_type": "stream",
          "name": "stdout",
          "text": [
            "0.06659906661486927\n",
            "0.07822014093399048\n",
            "0.1\n",
            "0.2\n",
            "0.13333333333333333\n"
          ]
        }
      ]
    }
  ]
}