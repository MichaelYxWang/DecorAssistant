{
  "nbformat": 4,
  "nbformat_minor": 5,
  "metadata": {
    "kernelspec": {
      "name": "python3",
      "display_name": "Python 3"
    },
    "colab": {
      "name": "CLIP_finetuning.ipynb",
      "provenance": [],
      "collapsed_sections": []
    },
    "language_info": {
      "name": "python"
    },
    "accelerator": "GPU"
  },
  "cells": [
    {
      "cell_type": "code",
      "metadata": {
        "id": "D2DkS5ep8xfs"
      },
      "source": [
        "from google.colab import drive\n",
        "drive.mount('/content/drive')"
      ],
      "id": "D2DkS5ep8xfs",
      "execution_count": null,
      "outputs": []
    },
    {
      "cell_type": "code",
      "metadata": {
        "scrolled": true,
        "tags": [],
        "id": "94a03101-8cdb-4706-bdc4-92ead9aaa9a0"
      },
      "source": [
        "! pip install ftfy regex tqdm\n",
        "! pip install git+https://github.com/openai/CLIP.git"
      ],
      "id": "94a03101-8cdb-4706-bdc4-92ead9aaa9a0",
      "execution_count": null,
      "outputs": []
    },
    {
      "cell_type": "code",
      "metadata": {
        "id": "d596d512-a70e-4a4f-99ec-d9eb0393a482"
      },
      "source": [
        "import numpy as np\n",
        "import torch\n",
        "import pickle\n",
        "import itertools\n",
        "import os\n",
        "import random\n",
        "import cv2\n",
        "from PIL import Image\n",
        "from torch import nn\n",
        "from torch.nn import functional as F\n",
        "from torch.cuda.amp import GradScaler, autocast\n",
        "from sklearn.model_selection import train_test_split\n",
        "import tqdm\n",
        "import matplotlib.pyplot as plt\n",
        "\n",
        "\n",
        "from torch.utils.data import Dataset, TensorDataset, DataLoader\n",
        "\n",
        "print(\"Torch version:\", torch.__version__)\n",
        "\n",
        "assert torch.__version__.split(\".\") >= [\"1\", \"7\", \"1\"], \"PyTorch 1.7.1 or later is required\""
      ],
      "id": "d596d512-a70e-4a4f-99ec-d9eb0393a482",
      "execution_count": null,
      "outputs": []
    },
    {
      "cell_type": "code",
      "metadata": {
        "id": "eccf1d7e-469c-4876-936d-0c799f8ac78b"
      },
      "source": [
        "import clip\n",
        "\n",
        "clip.available_models()"
      ],
      "id": "eccf1d7e-469c-4876-936d-0c799f8ac78b",
      "execution_count": null,
      "outputs": []
    },
    {
      "cell_type": "code",
      "metadata": {
        "colab": {
          "base_uri": "https://localhost:8080/"
        },
        "id": "f78b6ff5-181a-44a6-8c68-0ff48b3f56a7",
        "outputId": "205ef939-946c-4737-963d-946d09df4a08"
      },
      "source": [
        "model, preprocess = clip.load(\"ViT-B/32\")\n",
        "model.cuda().eval()\n",
        "input_resolution = model.visual.input_resolution\n",
        "context_length = model.context_length\n",
        "vocab_size = model.vocab_size\n",
        "\n",
        "print(\"Model parameters:\", f\"{np.sum([int(np.prod(p.shape)) for p in model.parameters()]):,}\")\n",
        "print(\"Input resolution:\", input_resolution)\n",
        "print(\"Context length:\", context_length)\n",
        "print(\"Vocab size:\", vocab_size)"
      ],
      "id": "f78b6ff5-181a-44a6-8c68-0ff48b3f56a7",
      "execution_count": 5,
      "outputs": [
        {
          "output_type": "stream",
          "name": "stderr",
          "text": [
            "100%|████████████████████████████████████████| 338M/338M [00:03<00:00, 112MiB/s]\n"
          ]
        },
        {
          "output_type": "stream",
          "name": "stdout",
          "text": [
            "Model parameters: 151,277,313\n",
            "Input resolution: 224\n",
            "Context length: 77\n",
            "Vocab size: 49408\n"
          ]
        }
      ]
    },
    {
      "cell_type": "code",
      "metadata": {
        "id": "W38-m4DL31v4"
      },
      "source": [
        "# CLIP has some layers explicitly parameterized using fp16 values. We need to\n",
        "# convert them back to fp32 in order to use automatic mixed-precision training\n",
        "def convert_weights(model: nn.Module):\n",
        "    \"\"\"Convert applicable model parameters to fp32\"\"\"\n",
        "\n",
        "    def _convert_weights_to_fp32(l):\n",
        "        if isinstance(l, (nn.Conv1d, nn.Conv2d, nn.Linear)):\n",
        "            l.weight.data = l.weight.data.float()\n",
        "            if l.bias is not None:\n",
        "                l.bias.data = l.bias.data.float()\n",
        "\n",
        "        if isinstance(l, nn.MultiheadAttention):\n",
        "            for attr in [*[f\"{s}_proj_weight\" for s in [\"in\", \"q\", \"k\", \"v\"]], \"in_proj_bias\", \"bias_k\", \"bias_v\"]:\n",
        "                tensor = getattr(l, attr)\n",
        "                if tensor is not None:\n",
        "                    tensor.data = tensor.data.float()\n",
        "\n",
        "        for name in [\"text_projection\", \"proj\"]:\n",
        "            if hasattr(l, name):\n",
        "                attr = getattr(l, name)\n",
        "                if attr is not None:\n",
        "                    attr.data = attr.data.float()\n",
        "\n",
        "    model.apply(_convert_weights_to_fp32)\n",
        "\n",
        "convert_weights(model)"
      ],
      "id": "W38-m4DL31v4",
      "execution_count": 6,
      "outputs": []
    },
    {
      "cell_type": "markdown",
      "metadata": {
        "id": "r9tNjmBYeon6"
      },
      "source": [
        "# Dataset Preprocessing"
      ],
      "id": "r9tNjmBYeon6"
    },
    {
      "cell_type": "code",
      "metadata": {
        "id": "7DW6oxGPmC9-"
      },
      "source": [
        "BASE_DIR = \"/content/drive/MyDrive/coursework/mmml/DecorAssistant/dataset/\"\n",
        "DATASET_DIR = \"/content/drive/MyDrive/coursework/mmml/DecorAssistant/dataset/text_data/\"\n",
        "IMAGES_DIR = \"/content/drive/MyDrive/coursework/mmml/DecorAssistant/dataset/images/all_items/\"\n",
        "POSITIVE_SIZE = None # We might only use a subset of the positive pairs\n",
        "TRAIN_TEST_RATIO = 0.33"
      ],
      "id": "7DW6oxGPmC9-",
      "execution_count": 44,
      "outputs": []
    },
    {
      "cell_type": "code",
      "metadata": {
        "id": "qmCx_kVEmF-s"
      },
      "source": [
        "def preprocess_img(path):\n",
        "  img = cv2.imread(path)\n",
        "  img = cv2.resize(img, (256, 256))\n",
        "  img = img.astype(np.float32) / 255\n",
        "  return img\n",
        "\n",
        "def read_pickle(fn):\n",
        "\twith open(fn, \"rb\") as f:\n",
        "\t\treturn pickle.load(f)"
      ],
      "id": "qmCx_kVEmF-s",
      "execution_count": 38,
      "outputs": []
    },
    {
      "cell_type": "code",
      "metadata": {
        "colab": {
          "base_uri": "https://localhost:8080/"
        },
        "id": "abwrNXYP8ibS",
        "outputId": "819ede61-f34a-4bbe-c0e6-c907006da347"
      },
      "source": [
        "def random_negative_sampling(products, all_positive_pairs, count=None, random_state=None):\n",
        "  selected_negative_pairs = []\n",
        "  if random_state is not None: random.seed(random_state)\n",
        "  while len(selected_negative_pairs) < (count or len(all_positive_pairs)):\n",
        "    random_pair = tuple(random.sample(products, 2))\n",
        "    if random_pair in all_positive_pairs:\n",
        "      continue\n",
        "    else:\n",
        "      selected_negative_pairs.append(random_pair)\n",
        "  return selected_negative_pairs\n",
        "  \n",
        "# {room image url -> string of room category}; e.g.: 'ikea-town-and-country__1364308377063-s4.jpg': 'Living Room'\n",
        "room_categories = read_pickle(DATASET_DIR + \"categories_dict.p\")\n",
        "# {item image ID -> string of item category}; e.g.: '291.292.29': 'Footstool',\n",
        "item_categories = read_pickle(DATASET_DIR + \"categories_images_dict.p\")\n",
        "# {item image id -> dict of descriptions}; e.g. '202.049.06': {'color': 'Grey,black','desc': 'View more product information Concealed press studs keep the quilt in place','img': 'images/objects/202.049.06.jpg','name': 'GURLI','size': '120x180 cm','type': 'Throw'},\n",
        "item_property = read_pickle(DATASET_DIR + \"products_dict.p\")\n",
        "# {item image url -> {description, name}}; e.g: '/static/images/902.592.50.jpg': {'desc': 'The high pile dampens sound and provides a soft surface to walk on.','name': 'GSER'},\n",
        "item_to_description = read_pickle(DATASET_DIR + \"img_to_desc.p\")\n",
        "# {item image url -> list of corresponding room image url}; e.g.: 'images/001.509.85.jpg': ['images/room_scenes/ikea-wake-up-and-grow__1364335362013-s4.jpg','images/room_scenes/ikea-wake-up-and-grow-1364335370196.jpg'],\n",
        "item_to_rooms_map = read_pickle(DATASET_DIR + \"item_to_room.p\")\n",
        "# {room image url -> list of items}; e.g.: 'ikea-work-from-home-in-perfect-harmony__1364319311386-s4.jpg': ['desk','chair']\n",
        "room_to_item_categories = read_pickle(DATASET_DIR + \"room_to_items.p\")\n",
        "\n",
        "# Some simple preprossing\n",
        "item_to_info = {key : value[\"type\"] + \" \" +\n",
        "                             value[\"desc\"]\n",
        "                       for key, value in item_property.items()} # remove view more info\n",
        "\n",
        "room_to_items = {}\n",
        "\n",
        "for item_url, room_url_list in item_to_rooms_map.items():\n",
        "  item_id = item_url.split(\"/\")[-1].split(\".jpg\")[0]\n",
        "  if not os.path.exists(IMAGES_DIR + item_id + \".jpg\"):\n",
        "      print(item_url + \" does not exist\")\n",
        "      continue\n",
        "\n",
        "  for room_url in room_url_list:\n",
        "    room_id = room_url.split(\"/\")[-1].split(\".jpg\")[0]\n",
        "    if room_id not in room_to_items:\n",
        "      room_to_items[room_id] = [item_id]\n",
        "    else:\n",
        "      room_to_items[room_id].append(item_id)\n",
        "\n",
        "all_positive_pairs = set()\n",
        "for room, item_id_list in room_to_items.items():\n",
        "  pairs_for_current_room = list(itertools.combinations(room_to_items[room], 2)) # n choose 2\n",
        "  all_positive_pairs |= set(pairs_for_current_room)\n",
        "\n",
        "# if POSITIVE_SIZE is not None:\n",
        "#     sampled_positives = all_positive_pairs[:POSITIVE_SIZE] # Uncomment to subsample\n",
        "# else:\n",
        "#     sampled_positives = all_positive_pairs\n",
        "# all_pairs = sampled_positives + random_negative_sampling(all_positive_pairs, count=len(sampled_positives))\n",
        "# y = np.array([1 for _ in range(len(all_positive_pairs))] + \n",
        "#              [0 for _ in range(len(all_positive_pairs))])\n",
        "# train_pairs, val_pairs, y_train, y_val = train_test_split(all_pairs, y, test_size=TRAIN_TEST_RATIO, random_state=517)\n",
        "\n",
        "# # Shuffle now so batches are not all positive or all negative\n",
        "# train_indices = np.random.permutation(np.arange(len(train_pairs)))\n",
        "# train_pairs = [train_pairs[i] for i in train_indices]\n",
        "# y_train = y_train[train_indices]\n",
        "\n",
        "# val_indices = np.random.permutation(np.arange(len(val_pairs)))\n",
        "# val_pairs = [val_pairs[i] for i in val_indices]\n",
        "# y_val = y_val[val_indices]\n",
        "\n",
        "# len(train_pairs), len(val_pairs), y_train[:10], y_val[:10]"
      ],
      "id": "abwrNXYP8ibS",
      "execution_count": 54,
      "outputs": [
        {
          "output_type": "stream",
          "name": "stdout",
          "text": [
            "images/890.333.75.jpg does not exist\n",
            "images/991.333.98.jpg does not exist\n",
            "images/990.612.97.jpg does not exist\n"
          ]
        }
      ]
    },
    {
      "cell_type": "code",
      "metadata": {
        "colab": {
          "base_uri": "https://localhost:8080/"
        },
        "id": "k7qkMsOBkG1o",
        "outputId": "2c4865f6-f7cb-49cd-b30c-de6c8435bb4a"
      },
      "source": [
        "# Train-val split that does not share products between training and validation sets.\n",
        "def generate_product_limited_samples(products, all_positive_pairs, random_state=None):\n",
        "    \"\"\"\n",
        "    Generates positive and negative examples for the given products using shared\n",
        "    occurence in rooms to indicate whether two products are compatible.\n",
        "\n",
        "    products: A sequence of product IDs; ALL positive and negative pairs must\n",
        "        contain only these product IDs.\n",
        "    all_positive_pairs: A set of product ID pairs that are positive.\n",
        "    \n",
        "    Returns: A tuple (x, y), where x is a sequence of product ID pairs and y is\n",
        "        the array of [0, 1] labels indicating presence in all_positive_pairs.\n",
        "    \"\"\"\n",
        "    product_set = set(products)\n",
        "    within_positive_pairs = [p for p in sorted(all_positive_pairs) if p[0] in product_set and p[1] in product_set]\n",
        "    negative_pairs = random_negative_sampling(products, all_positive_pairs, count=len(within_positive_pairs), random_state=random_state)\n",
        "    x = within_positive_pairs + negative_pairs\n",
        "    y = np.array([1] * len(within_positive_pairs) + [0] * len(negative_pairs))\n",
        "    if random_state is not None: np.random.seed(random_state)\n",
        "    indices = np.random.permutation(np.arange(len(x)))\n",
        "    return [x[i] for i in indices], y[indices]\n",
        "\n",
        "all_products = sorted(set([x for pair in all_positive_pairs for x in pair]))\n",
        "train_products, val_products = train_test_split(all_products, test_size=TRAIN_TEST_RATIO, random_state=517)\n",
        "\n",
        "train_pairs, y_train = generate_product_limited_samples(train_products, all_positive_pairs, random_state=517)\n",
        "val_pairs, y_val = generate_product_limited_samples(val_products, all_positive_pairs, random_state=517)\n",
        "print(len(train_pairs), len(val_pairs))\n",
        "\n",
        "with open(BASE_DIR + \"train_data.pkl\", \"wb\") as file:\n",
        "    pickle.dump((train_pairs, y_train), file)\n",
        "with open(BASE_DIR + \"val_data.pkl\", \"wb\") as file:\n",
        "    pickle.dump((val_pairs, y_val), file)"
      ],
      "id": "k7qkMsOBkG1o",
      "execution_count": 55,
      "outputs": [
        {
          "output_type": "stream",
          "name": "stdout",
          "text": [
            "22226 5384\n"
          ]
        }
      ]
    },
    {
      "cell_type": "code",
      "metadata": {
        "id": "XOcblifyo3ri"
      },
      "source": [
        "# To read the training and validation sets\n",
        "with open(BASE_DIR + \"train_data.pkl\", \"rb\") as file:\n",
        "    train_pairs, y_train = pickle.load(file)\n",
        "with open(BASE_DIR + \"val_data.pkl\", \"rb\") as file:\n",
        "    val_pairs, y_val = pickle.load(file)"
      ],
      "id": "XOcblifyo3ri",
      "execution_count": 56,
      "outputs": []
    },
    {
      "cell_type": "code",
      "metadata": {
        "id": "jtQJWkJ0fEPT"
      },
      "source": [
        "class FurnitureImagePairsDataset(Dataset):\n",
        "    \"\"\"Dataset containing pairs of furniture items.\"\"\"\n",
        "\n",
        "    def __init__(self, image_path, pairs, labels):\n",
        "        \"\"\"\n",
        "        Args:\n",
        "            image_path (string): Path to the directory containing images.\n",
        "            pairs (list of tuples of strings): Pairs of image IDs to be used as training samples.\n",
        "            labels (array of integers): Labels for the training samples.\n",
        "        \"\"\"\n",
        "        super(FurnitureImagePairsDataset, self).__init__()\n",
        "        self.image_ids = list(set(x for pair in pairs for x in pair))\n",
        "        self.index_mapping = {image_id: i for i, image_id in enumerate(self.image_ids)}\n",
        "        self.images = [preprocess(Image.open(image_path + image_id + \".jpg\")) for image_id in tqdm.tqdm(self.image_ids)]\n",
        "        self.pairs = pairs\n",
        "        self.labels = labels\n",
        "\n",
        "    def __len__(self):\n",
        "        return len(self.pairs)\n",
        "\n",
        "    def __getitem__(self, idx):\n",
        "        if torch.is_tensor(idx):\n",
        "            idx = idx.tolist()\n",
        "\n",
        "        if isinstance(idx, (list, tuple)):\n",
        "            x1, x2, y = zip(*[self[i] for i in idx])\n",
        "            return torch.stack(x1), torch.stack(x2), torch.from_numpy(np.array(y))\n",
        "\n",
        "        pair = self.pairs[idx]\n",
        "        return self.images[self.index_mapping[pair[0]]], self.images[self.index_mapping[pair[1]]], self.labels[idx]"
      ],
      "id": "jtQJWkJ0fEPT",
      "execution_count": 49,
      "outputs": []
    },
    {
      "cell_type": "code",
      "metadata": {
        "id": "FQygJsUIOMeb"
      },
      "source": [
        "X_train_image = FurnitureImagePairsDataset(IMAGES_DIR, train_pairs, y_train)\n",
        "X_val_image = FurnitureImagePairsDataset(IMAGES_DIR, val_pairs, y_val)"
      ],
      "id": "FQygJsUIOMeb",
      "execution_count": null,
      "outputs": []
    },
    {
      "cell_type": "code",
      "metadata": {
        "id": "lO1ZkgcUK1m7"
      },
      "source": [
        "train_premise_texts = [item_to_info[id] for id, _ in train_pairs]\n",
        "train_hypothesis_texts = [item_to_info[id] for _, id in train_pairs]\n",
        "X_train_text_premise = clip.tokenize(train_premise_texts)\n",
        "X_train_text_hypothesis = clip.tokenize(train_hypothesis_texts)\n",
        "\n",
        "val_premise_texts = [item_to_info[id] for id, _ in val_pairs]\n",
        "val_hypothesis_texts = [item_to_info[id] for _, id in val_pairs]\n",
        "X_val_text_premise = clip.tokenize(val_premise_texts)\n",
        "X_val_text_hypothesis = clip.tokenize(val_hypothesis_texts)"
      ],
      "id": "lO1ZkgcUK1m7",
      "execution_count": 13,
      "outputs": []
    },
    {
      "cell_type": "code",
      "metadata": {
        "id": "3Vm9RcV-MWk7",
        "colab": {
          "base_uri": "https://localhost:8080/"
        },
        "outputId": "26417dec-8c7f-422c-e709-1a66b9a64764"
      },
      "source": [
        "BATCH_SIZE = 32\n",
        "\n",
        "img_train_data = X_train_image # TensorDataset(torch.from_numpy(X_train_image_premise), torch.from_numpy(X_train_image_hypothesis), torch.from_numpy(y_train))\n",
        "text_train_data = TensorDataset(X_train_text_premise, X_train_text_hypothesis, torch.from_numpy(y_train))\n",
        "\n",
        "img_val_data = X_val_image # TensorDataset(torch.from_numpy(X_val_image_premise), torch.from_numpy(X_val_image_hypothesis), torch.from_numpy(y_val))\n",
        "text_val_data = TensorDataset(X_val_text_premise, X_val_text_hypothesis, torch.from_numpy(y_val))\n",
        "\n",
        "text_train_loader = DataLoader(text_train_data, batch_size=BATCH_SIZE)\n",
        "img_train_loader = DataLoader(img_train_data, batch_size=BATCH_SIZE)\n",
        "\n",
        "text_val_loader = DataLoader(text_val_data, batch_size=BATCH_SIZE)\n",
        "img_val_loader = DataLoader(img_val_data, batch_size=BATCH_SIZE)\n",
        "\n",
        "print(len(text_train_loader), len(img_train_loader))\n",
        "print(len(text_val_loader), len(img_val_loader))"
      ],
      "id": "3Vm9RcV-MWk7",
      "execution_count": 15,
      "outputs": [
        {
          "output_type": "stream",
          "name": "stdout",
          "text": [
            "838 838\n",
            "413 413\n"
          ]
        }
      ]
    },
    {
      "cell_type": "code",
      "metadata": {
        "colab": {
          "base_uri": "https://localhost:8080/"
        },
        "id": "F0JB4-tFMYbZ",
        "outputId": "bd85a4a4-8e70-406d-f5d3-610f50c0673f"
      },
      "source": [
        "# Find out embedding shapes\n",
        "print(model.encode_image(X_train_image[0][0][None,:].cuda()).size())\n",
        "print(model.encode_text(X_train_text_premise[0:1].cuda()).size())"
      ],
      "id": "F0JB4-tFMYbZ",
      "execution_count": null,
      "outputs": [
        {
          "output_type": "stream",
          "name": "stdout",
          "text": [
            "torch.Size([1, 512])\n",
            "torch.Size([1, 512])\n"
          ]
        }
      ]
    },
    {
      "cell_type": "code",
      "metadata": {
        "id": "vvJNMnx-9pVe"
      },
      "source": [
        "class CLIPIKEA(nn.Module):\n",
        "    def __init__(self, clip_model, embedding_dim, n_out):\n",
        "        super(CLIPIKEA, self).__init__()\n",
        "\n",
        "        self.clip_model = clip_model\n",
        "        self.combined_fc1 = nn.Linear(embedding_dim * 4, 256)\n",
        "        self.output_fc = nn.Linear(256, n_out)\n",
        "\n",
        "    def forward(self, txt_1, txt_2, img_1, img_2):\n",
        "        batch_size = txt_1.size(0)\n",
        "\n",
        "        with autocast(enabled=False):\n",
        "            txt_emb_1 = self.clip_model.encode_text(txt_1)\n",
        "            txt_emb_2 = self.clip_model.encode_text(txt_2)\n",
        "            img_emb_1 = self.clip_model.encode_image(img_1)\n",
        "            img_emb_2 = self.clip_model.encode_image(img_2)\n",
        "\n",
        "        all_emb = torch.cat((txt_emb_1, txt_emb_2, img_emb_1, img_emb_2), 1)\n",
        "        x_comb = F.relu(self.combined_fc1(all_emb))\n",
        "        out = self.output_fc(x_comb)\n",
        "\n",
        "        return out"
      ],
      "id": "vvJNMnx-9pVe",
      "execution_count": 16,
      "outputs": []
    },
    {
      "cell_type": "code",
      "metadata": {
        "colab": {
          "base_uri": "https://localhost:8080/"
        },
        "id": "45R7g0x8NihA",
        "outputId": "e2ac6c43-a3f6-4b56-c8b3-5b1010690c61"
      },
      "source": [
        "output_size = 1 # only output a single sigmoid value # y.shape[1]\n",
        "print(output_size)\n",
        "\n",
        "device = torch.device('cuda' if torch.cuda.is_available() else 'cpu')\n",
        "print(device)\n",
        "\n",
        "full_model = CLIPIKEA(model, 512, output_size)\n",
        "full_model.to(device)\n",
        "\n",
        "lr=0.001\n",
        "# criterion = nn.MultiLabelSoftMarginLoss()\n",
        "criterion = nn.BCEWithLogitsLoss() # this means the sigmoid is INCORPORATED into the loss!!\n",
        "optimizer = torch.optim.Adam(full_model.parameters(), lr=lr, weight_decay=1e-5)"
      ],
      "id": "45R7g0x8NihA",
      "execution_count": 17,
      "outputs": [
        {
          "output_type": "stream",
          "name": "stdout",
          "text": [
            "1\n",
            "cuda\n"
          ]
        }
      ]
    },
    {
      "cell_type": "code",
      "metadata": {
        "id": "3mHu2wSTKFDK"
      },
      "source": [
        "CHECKPOINT_DIR = \"/content/drive/MyDrive/coursework/mmml/DecorAssistant/baselines/clip_checkpoints/\"\n",
        "CHECKPOINT_PREFIX = \"first_run\"\n",
        "\n",
        "torch.save(full_model.state_dict(), CHECKPOINT_DIR + \"{}_initial_state.p\".format(CHECKPOINT_PREFIX))"
      ],
      "id": "3mHu2wSTKFDK",
      "execution_count": 19,
      "outputs": []
    },
    {
      "cell_type": "code",
      "metadata": {
        "colab": {
          "base_uri": "https://localhost:8080/"
        },
        "id": "68imyr2CN0G1",
        "outputId": "786cef72-d6cf-4433-a037-c64bae23a4c5"
      },
      "source": [
        "epochs = 5\n",
        "grad_clip = 5\n",
        "\n",
        "for p in full_model.clip_model.parameters():\n",
        "    p.requires_grad = False\n",
        "for p in full_model.clip_model.get_submodule(\"token_embedding\").parameters():\n",
        "    p.requires_grad = True\n",
        "\n",
        "# Scale gradients to use fp16 training\n",
        "scaler = GradScaler()\n",
        "\n",
        "full_model.train()\n",
        "for i in range(epochs):\n",
        "    total_acc_train = 0\n",
        "    total_loss_train = 0\n",
        "\n",
        "    for lstm, cnn in tqdm.tqdm(zip(text_train_loader, img_train_loader), total=len(text_train_loader)):\n",
        "        lstm_inp1, lstm_inp2, lstm_labels = lstm\n",
        "        cnn_inp1, cnn_inp2, cnn_labels = cnn\n",
        "        \n",
        "        with autocast():\n",
        "            lstm_inp1, lstm_inp2, lstm_labels = lstm_inp1.to(device), lstm_inp2.to(device), lstm_labels.to(device)\n",
        "            cnn_inp1, cnn_inp2, cnn_labels = cnn_inp1.to(device), cnn_inp2.to(device), cnn_labels.to(device)\n",
        "            full_model.zero_grad()\n",
        "            output = full_model(lstm_inp1, lstm_inp2, cnn_inp1, cnn_inp2)\n",
        "            loss = criterion(output.squeeze(), lstm_labels.half())\n",
        "        \n",
        "        scaler.scale(loss).backward()\n",
        "        \n",
        "        scaler.unscale_(optimizer)\n",
        "        # nn.utils.clip_grad_norm_(full_model.parameters(), grad_clip)\n",
        "        scaler.step(optimizer)\n",
        "        scaler.update()\n",
        "\n",
        "        with torch.no_grad():\n",
        "            acc = torch.abs(torch.round(torch.sigmoid(output.squeeze())) - lstm_labels.float()).view(-1)\n",
        "            acc = (1. - acc.sum() / acc.size()[0])\n",
        "            total_acc_train += acc\n",
        "            total_loss_train += loss.item()\n",
        "  \n",
        "    train_acc = total_acc_train/len(text_train_loader)\n",
        "    train_loss = total_loss_train/len(text_train_loader)\n",
        "    full_model.eval()\n",
        "    total_acc_val = 0\n",
        "    total_loss_val = 0\n",
        "    with torch.no_grad():\n",
        "        for lstm, cnn in tqdm.tqdm(zip(text_val_loader, img_val_loader), total=len(text_val_loader)):\n",
        "            lstm_inp1, lstm_inp2, lstm_labels = lstm\n",
        "            cnn_inp1, cnn_inp2, cnn_labels = cnn\n",
        "            lstm_inp1, lstm_inp2, lstm_labels = lstm_inp1.to(device), lstm_inp2.to(device), lstm_labels.to(device)\n",
        "            cnn_inp1, cnn_inp2, cnn_labels = cnn_inp1.to(device), cnn_inp2.to(device), cnn_labels.to(device)\n",
        "            full_model.zero_grad()\n",
        "            output = full_model(lstm_inp1, lstm_inp2, cnn_inp1, cnn_inp2)\n",
        "            val_loss = criterion(output.squeeze(), lstm_labels.float())\n",
        "            acc = torch.abs(torch.round(torch.sigmoid(output.squeeze())) - lstm_labels.float()).view(-1)\n",
        "            acc = (1. - acc.sum() / acc.size()[0])\n",
        "            total_acc_val += acc\n",
        "            total_loss_val += val_loss.item()\n",
        "    val_acc = total_acc_val/len(text_val_loader)\n",
        "    val_loss = total_loss_val/len(text_val_loader)\n",
        "    print(f'Epoch {i+1}: train_loss: {train_loss:.4f} train_acc: {train_acc:.4f} | val_loss: {val_loss:.4f} val_acc: {val_acc:.4f}')\n",
        "    full_model.train()\n",
        "    #torch.cuda.empty_cache()\n",
        "    torch.save(full_model.state_dict(), CHECKPOINT_DIR + \"{}_epoch_{}.p\".format(CHECKPOINT_PREFIX, i))"
      ],
      "id": "68imyr2CN0G1",
      "execution_count": 20,
      "outputs": [
        {
          "output_type": "stream",
          "name": "stderr",
          "text": [
            "100%|██████████| 838/838 [13:54<00:00,  1.00it/s]\n",
            "100%|██████████| 413/413 [04:46<00:00,  1.44it/s]\n"
          ]
        },
        {
          "output_type": "stream",
          "name": "stdout",
          "text": [
            "Epoch 1: train_loss: 0.5189 train_acc: 0.7203 | val_loss: 0.4383 val_acc: 0.7781\n"
          ]
        },
        {
          "output_type": "stream",
          "name": "stderr",
          "text": [
            "100%|██████████| 838/838 [13:52<00:00,  1.01it/s]\n",
            "100%|██████████| 413/413 [04:46<00:00,  1.44it/s]\n"
          ]
        },
        {
          "output_type": "stream",
          "name": "stdout",
          "text": [
            "Epoch 2: train_loss: 0.3894 train_acc: 0.8119 | val_loss: 0.3748 val_acc: 0.8238\n"
          ]
        },
        {
          "output_type": "stream",
          "name": "stderr",
          "text": [
            "100%|██████████| 838/838 [13:53<00:00,  1.01it/s]\n",
            "100%|██████████| 413/413 [04:46<00:00,  1.44it/s]\n"
          ]
        },
        {
          "output_type": "stream",
          "name": "stdout",
          "text": [
            "Epoch 3: train_loss: 0.3340 train_acc: 0.8461 | val_loss: 0.3534 val_acc: 0.8415\n"
          ]
        },
        {
          "output_type": "stream",
          "name": "stderr",
          "text": [
            "100%|██████████| 838/838 [13:54<00:00,  1.00it/s]\n",
            "100%|██████████| 413/413 [04:46<00:00,  1.44it/s]\n"
          ]
        },
        {
          "output_type": "stream",
          "name": "stdout",
          "text": [
            "Epoch 4: train_loss: 0.2955 train_acc: 0.8684 | val_loss: 0.3430 val_acc: 0.8484\n"
          ]
        },
        {
          "output_type": "stream",
          "name": "stderr",
          "text": [
            "100%|██████████| 838/838 [13:55<00:00,  1.00it/s]\n",
            "100%|██████████| 413/413 [04:47<00:00,  1.44it/s]\n"
          ]
        },
        {
          "output_type": "stream",
          "name": "stdout",
          "text": [
            "Epoch 5: train_loss: 0.2630 train_acc: 0.8883 | val_loss: 0.3242 val_acc: 0.8613\n"
          ]
        }
      ]
    },
    {
      "cell_type": "code",
      "metadata": {
        "colab": {
          "base_uri": "https://localhost:8080/"
        },
        "id": "tLROalwnTgPv",
        "outputId": "474fddd7-f69d-446b-9fae-3c9752897f1c"
      },
      "source": [
        "print(output, lstm_labels, cnn_labels)\n",
        "print(torch.sigmoid(output.squeeze()))\n",
        "print(criterion(output.squeeze(), lstm_labels.float()))"
      ],
      "id": "tLROalwnTgPv",
      "execution_count": null,
      "outputs": [
        {
          "output_type": "stream",
          "name": "stdout",
          "text": [
            "tensor([[-0.4826],\n",
            "        [-0.4781],\n",
            "        [-0.4693],\n",
            "        [-0.4642],\n",
            "        [-0.4883],\n",
            "        [-0.4753],\n",
            "        [-0.4735],\n",
            "        [-0.5207],\n",
            "        [-0.4813],\n",
            "        [-0.6595]], device='cuda:0') tensor([0, 1, 1, 1, 0, 1, 1, 0, 1, 0], device='cuda:0') tensor([0, 1, 1, 1, 0, 1, 1, 0, 1, 0], device='cuda:0')\n",
            "tensor([0.3816, 0.3827, 0.3848, 0.3860, 0.3803, 0.3834, 0.3838, 0.3727, 0.3820,\n",
            "        0.3409], device='cuda:0')\n",
            "tensor(0.7589, device='cuda:0')\n"
          ]
        }
      ]
    },
    {
      "cell_type": "code",
      "metadata": {
        "colab": {
          "base_uri": "https://localhost:8080/"
        },
        "id": "P-LnR6-Ix4mx",
        "outputId": "ea8151c3-ab2a-4563-a4c5-7f5ba2080cde"
      },
      "source": [
        "full_model.eval()\n",
        "total_acc_val = 0\n",
        "total_loss_val = 0\n",
        "with torch.no_grad():\n",
        "    for lstm, cnn in tqdm.tqdm(zip(text_val_loader, img_val_loader), total=len(text_val_loader)):\n",
        "        lstm_inp1, lstm_inp2, lstm_labels = lstm\n",
        "        cnn_inp1, cnn_inp2, cnn_labels = cnn\n",
        "        lstm_inp1, lstm_inp2, lstm_labels = lstm_inp1.to(device), lstm_inp2.to(device), lstm_labels.to(device)\n",
        "        cnn_inp1, cnn_inp2, cnn_labels = cnn_inp1.to(device), cnn_inp2.to(device), cnn_labels.to(device)\n",
        "        full_model.zero_grad()\n",
        "        output = full_model(lstm_inp1, lstm_inp2, cnn_inp1, cnn_inp2)\n",
        "        val_loss = criterion(output.squeeze(), lstm_labels.float())\n",
        "        print(output, lstm_labels, cnn_labels)\n",
        "        print(torch.sigmoid(output.squeeze()))\n",
        "        print(val_loss)\n",
        "        print(\"\")\n",
        "        acc = torch.abs(torch.round(torch.sigmoid(output.squeeze())) - lstm_labels.float()).view(-1)\n",
        "        acc = (1. - acc.sum() / acc.size()[0])\n",
        "        total_acc_val += acc\n",
        "        total_loss_val += val_loss.item()\n",
        "val_acc = total_acc_val/len(text_val_loader)\n",
        "val_loss = total_loss_val/len(text_val_loader)"
      ],
      "id": "P-LnR6-Ix4mx",
      "execution_count": null,
      "outputs": [
        {
          "output_type": "stream",
          "name": "stderr",
          "text": [
            "  9%|▉         | 1/11 [00:00<00:08,  1.22it/s]"
          ]
        },
        {
          "output_type": "stream",
          "name": "stdout",
          "text": [
            "tensor([[-0.4829],\n",
            "        [-0.4940],\n",
            "        [-0.4744],\n",
            "        [-0.4827],\n",
            "        [-0.4826],\n",
            "        [-0.4774],\n",
            "        [-0.6648],\n",
            "        [-0.4764],\n",
            "        [-0.7890],\n",
            "        [-0.4812],\n",
            "        [-0.4810],\n",
            "        [-0.4740],\n",
            "        [-0.4812],\n",
            "        [-0.4770],\n",
            "        [-0.4757],\n",
            "        [-0.6729],\n",
            "        [-0.4769],\n",
            "        [-0.5210],\n",
            "        [-0.6571],\n",
            "        [-0.4705],\n",
            "        [-0.6427],\n",
            "        [-0.5134],\n",
            "        [-0.5133],\n",
            "        [-0.6652],\n",
            "        [-0.4775],\n",
            "        [-0.4767],\n",
            "        [-0.4815],\n",
            "        [-0.4766],\n",
            "        [-0.5041],\n",
            "        [-0.5030],\n",
            "        [-0.4787],\n",
            "        [-0.4911]], device='cuda:0') tensor([1, 0, 1, 1, 0, 0, 0, 0, 0, 1, 0, 0, 0, 1, 1, 0, 0, 0, 1, 1, 0, 0, 0, 1,\n",
            "        1, 0, 0, 1, 1, 1, 0, 0], device='cuda:0') tensor([1, 0, 1, 1, 0, 0, 0, 0, 0, 1, 0, 0, 0, 1, 1, 0, 0, 0, 1, 1, 0, 0, 0, 1,\n",
            "        1, 0, 0, 1, 1, 1, 0, 0], device='cuda:0')\n",
            "tensor([0.3816, 0.3789, 0.3836, 0.3816, 0.3816, 0.3829, 0.3397, 0.3831, 0.3124,\n",
            "        0.3820, 0.3820, 0.3837, 0.3820, 0.3830, 0.3833, 0.3378, 0.3830, 0.3726,\n",
            "        0.3414, 0.3845, 0.3446, 0.3744, 0.3744, 0.3396, 0.3828, 0.3830, 0.3819,\n",
            "        0.3831, 0.3766, 0.3768, 0.3826, 0.3796], device='cuda:0')\n",
            "tensor(0.6735, device='cuda:0')\n",
            "\n"
          ]
        },
        {
          "output_type": "stream",
          "name": "stderr",
          "text": [
            "\r 18%|█▊        | 2/11 [00:01<00:06,  1.30it/s]"
          ]
        },
        {
          "output_type": "stream",
          "name": "stdout",
          "text": [
            "tensor([[-0.5161],\n",
            "        [-0.4851],\n",
            "        [-0.4917],\n",
            "        [-0.4805],\n",
            "        [-0.4828],\n",
            "        [-0.5318],\n",
            "        [-0.6663],\n",
            "        [-0.4965],\n",
            "        [-0.5161],\n",
            "        [-0.4913],\n",
            "        [-0.6544],\n",
            "        [-0.4935],\n",
            "        [-0.4905],\n",
            "        [-0.5177],\n",
            "        [-0.4824],\n",
            "        [-0.4765],\n",
            "        [-0.4755],\n",
            "        [-0.5301],\n",
            "        [-0.5318],\n",
            "        [-0.4947],\n",
            "        [-0.4849],\n",
            "        [-0.6142],\n",
            "        [-0.7114],\n",
            "        [-0.4802],\n",
            "        [-0.4840],\n",
            "        [-0.6318],\n",
            "        [-0.4898],\n",
            "        [-0.5358],\n",
            "        [-0.4791],\n",
            "        [-0.4700],\n",
            "        [-0.4801],\n",
            "        [-0.6583]], device='cuda:0') tensor([0, 0, 0, 1, 1, 0, 1, 1, 1, 0, 1, 0, 0, 0, 1, 0, 0, 0, 1, 1, 0, 0, 1, 0,\n",
            "        1, 1, 0, 0, 1, 1, 1, 1], device='cuda:0') tensor([0, 0, 0, 1, 1, 0, 1, 1, 1, 0, 1, 0, 0, 0, 1, 0, 0, 0, 1, 1, 0, 0, 1, 0,\n",
            "        1, 1, 0, 0, 1, 1, 1, 1], device='cuda:0')\n",
            "tensor([0.3738, 0.3811, 0.3795, 0.3821, 0.3816, 0.3701, 0.3393, 0.3784, 0.3738,\n",
            "        0.3796, 0.3420, 0.3791, 0.3798, 0.3734, 0.3817, 0.3831, 0.3833, 0.3705,\n",
            "        0.3701, 0.3788, 0.3811, 0.3511, 0.3293, 0.3822, 0.3813, 0.3471, 0.3799,\n",
            "        0.3692, 0.3825, 0.3846, 0.3822, 0.3411], device='cuda:0')\n",
            "tensor(0.7374, device='cuda:0')\n",
            "\n"
          ]
        },
        {
          "output_type": "stream",
          "name": "stderr",
          "text": [
            "\r 27%|██▋       | 3/11 [00:02<00:06,  1.33it/s]"
          ]
        },
        {
          "output_type": "stream",
          "name": "stdout",
          "text": [
            "tensor([[-0.4824],\n",
            "        [-0.5124],\n",
            "        [-0.4937],\n",
            "        [-0.4803],\n",
            "        [-0.4819],\n",
            "        [-0.4730],\n",
            "        [-0.4806],\n",
            "        [-0.4789],\n",
            "        [-0.4882],\n",
            "        [-0.6652],\n",
            "        [-0.5255],\n",
            "        [-0.4815],\n",
            "        [-0.6553],\n",
            "        [-0.4764],\n",
            "        [-0.5156],\n",
            "        [-0.4663],\n",
            "        [-0.4800],\n",
            "        [-0.4835],\n",
            "        [-0.4889],\n",
            "        [-0.4858],\n",
            "        [-0.4818],\n",
            "        [-0.4746],\n",
            "        [-0.5329],\n",
            "        [-0.5108],\n",
            "        [-0.4779],\n",
            "        [-0.4828],\n",
            "        [-0.4927],\n",
            "        [-0.4832],\n",
            "        [-0.4783],\n",
            "        [-0.4594],\n",
            "        [-0.4779],\n",
            "        [-0.6629]], device='cuda:0') tensor([0, 0, 0, 0, 1, 1, 1, 1, 0, 0, 1, 0, 0, 0, 1, 1, 0, 1, 1, 1, 0, 1, 0, 0,\n",
            "        1, 0, 0, 0, 0, 1, 1, 1], device='cuda:0') tensor([0, 0, 0, 0, 1, 1, 1, 1, 0, 0, 1, 0, 0, 0, 1, 1, 0, 1, 1, 1, 0, 1, 0, 0,\n",
            "        1, 0, 0, 0, 0, 1, 1, 1], device='cuda:0')\n",
            "tensor([0.3817, 0.3746, 0.3790, 0.3822, 0.3818, 0.3839, 0.3821, 0.3825, 0.3803,\n",
            "        0.3396, 0.3716, 0.3819, 0.3418, 0.3831, 0.3739, 0.3855, 0.3823, 0.3814,\n",
            "        0.3802, 0.3809, 0.3818, 0.3835, 0.3698, 0.3750, 0.3827, 0.3816, 0.3793,\n",
            "        0.3815, 0.3827, 0.3871, 0.3827, 0.3401], device='cuda:0')\n",
            "tensor(0.7054, device='cuda:0')\n",
            "\n"
          ]
        },
        {
          "output_type": "stream",
          "name": "stderr",
          "text": [
            "\r 36%|███▋      | 4/11 [00:03<00:05,  1.34it/s]"
          ]
        },
        {
          "output_type": "stream",
          "name": "stdout",
          "text": [
            "tensor([[-0.4760],\n",
            "        [-0.4834],\n",
            "        [-0.4795],\n",
            "        [-0.8199],\n",
            "        [-0.4700],\n",
            "        [-0.5177],\n",
            "        [-0.4840],\n",
            "        [-0.5031],\n",
            "        [-0.4816],\n",
            "        [-0.6579],\n",
            "        [-0.5080],\n",
            "        [-0.4926],\n",
            "        [-0.4751],\n",
            "        [-0.4941],\n",
            "        [-0.6668],\n",
            "        [-0.4705],\n",
            "        [-0.6322],\n",
            "        [-0.7491],\n",
            "        [-0.6257],\n",
            "        [-0.5090],\n",
            "        [-0.4829],\n",
            "        [-0.4780],\n",
            "        [-0.4928],\n",
            "        [-0.6666],\n",
            "        [-0.4777],\n",
            "        [-0.4751],\n",
            "        [-0.6630],\n",
            "        [-0.4761],\n",
            "        [-0.8179],\n",
            "        [-0.4816],\n",
            "        [-0.4803],\n",
            "        [-0.4796]], device='cuda:0') tensor([0, 1, 0, 0, 0, 0, 1, 1, 1, 1, 1, 1, 1, 1, 0, 1, 0, 1, 0, 1, 1, 1, 1, 0,\n",
            "        0, 0, 0, 1, 0, 0, 1, 1], device='cuda:0') tensor([0, 1, 0, 0, 0, 0, 1, 1, 1, 1, 1, 1, 1, 1, 0, 1, 0, 1, 0, 1, 1, 1, 1, 0,\n",
            "        0, 0, 0, 1, 0, 0, 1, 1], device='cuda:0')\n",
            "tensor([0.3832, 0.3814, 0.3824, 0.3058, 0.3846, 0.3734, 0.3813, 0.3768, 0.3819,\n",
            "        0.3412, 0.3757, 0.3793, 0.3834, 0.3789, 0.3392, 0.3845, 0.3470, 0.3210,\n",
            "        0.3485, 0.3754, 0.3816, 0.3827, 0.3792, 0.3393, 0.3828, 0.3834, 0.3401,\n",
            "        0.3832, 0.3062, 0.3819, 0.3822, 0.3823], device='cuda:0')\n",
            "tensor(0.7457, device='cuda:0')\n",
            "\n"
          ]
        },
        {
          "output_type": "stream",
          "name": "stderr",
          "text": [
            "\r 45%|████▌     | 5/11 [00:03<00:04,  1.35it/s]"
          ]
        },
        {
          "output_type": "stream",
          "name": "stdout",
          "text": [
            "tensor([[-0.4825],\n",
            "        [-0.7084],\n",
            "        [-0.5137],\n",
            "        [-0.4948],\n",
            "        [-0.4753],\n",
            "        [-0.4808],\n",
            "        [-0.5161],\n",
            "        [-0.6361],\n",
            "        [-0.4726],\n",
            "        [-0.5164],\n",
            "        [-0.4764],\n",
            "        [-0.4873],\n",
            "        [-0.4853],\n",
            "        [-0.7936],\n",
            "        [-0.4812],\n",
            "        [-0.4812],\n",
            "        [-0.4801],\n",
            "        [-0.4772],\n",
            "        [-0.4782],\n",
            "        [-0.7689],\n",
            "        [-0.4792],\n",
            "        [-0.5061],\n",
            "        [-0.4711],\n",
            "        [-0.4791],\n",
            "        [-0.5126],\n",
            "        [-0.6725],\n",
            "        [-0.6357],\n",
            "        [-0.4860],\n",
            "        [-0.8051],\n",
            "        [-0.6326],\n",
            "        [-0.5323],\n",
            "        [-0.4813]], device='cuda:0') tensor([0, 0, 0, 1, 1, 0, 1, 0, 1, 0, 1, 1, 0, 1, 0, 0, 1, 1, 0, 1, 0, 0, 1, 1,\n",
            "        0, 1, 0, 1, 1, 0, 1, 1], device='cuda:0') tensor([0, 0, 0, 1, 1, 0, 1, 0, 1, 0, 1, 1, 0, 1, 0, 0, 1, 1, 0, 1, 0, 0, 1, 1,\n",
            "        0, 1, 0, 1, 1, 0, 1, 1], device='cuda:0')\n",
            "tensor([0.3817, 0.3300, 0.3743, 0.3788, 0.3834, 0.3821, 0.3738, 0.3461, 0.3840,\n",
            "        0.3737, 0.3831, 0.3805, 0.3810, 0.3114, 0.3820, 0.3820, 0.3822, 0.3829,\n",
            "        0.3827, 0.3167, 0.3824, 0.3761, 0.3844, 0.3825, 0.3746, 0.3379, 0.3462,\n",
            "        0.3808, 0.3089, 0.3469, 0.3700, 0.3820], device='cuda:0')\n",
            "tensor(0.7518, device='cuda:0')\n",
            "\n"
          ]
        },
        {
          "output_type": "stream",
          "name": "stderr",
          "text": [
            "\r 55%|█████▍    | 6/11 [00:04<00:03,  1.35it/s]"
          ]
        },
        {
          "output_type": "stream",
          "name": "stdout",
          "text": [
            "tensor([[-0.4818],\n",
            "        [-0.6330],\n",
            "        [-0.5156],\n",
            "        [-0.4947],\n",
            "        [-0.5258],\n",
            "        [-0.4930],\n",
            "        [-0.4814],\n",
            "        [-0.4609],\n",
            "        [-0.4821],\n",
            "        [-0.4939],\n",
            "        [-0.4649],\n",
            "        [-0.7241],\n",
            "        [-0.6432],\n",
            "        [-0.6640],\n",
            "        [-0.4783],\n",
            "        [-0.5262],\n",
            "        [-0.5247],\n",
            "        [-0.4916],\n",
            "        [-0.4958],\n",
            "        [-0.4829],\n",
            "        [-0.4796],\n",
            "        [-0.6337],\n",
            "        [-0.7528],\n",
            "        [-0.4914],\n",
            "        [-0.5178],\n",
            "        [-0.4876],\n",
            "        [-0.4818],\n",
            "        [-0.4786],\n",
            "        [-0.4928],\n",
            "        [-0.4831],\n",
            "        [-0.4812],\n",
            "        [-0.4823]], device='cuda:0') tensor([1, 0, 0, 0, 0, 1, 1, 1, 0, 1, 1, 1, 0, 0, 1, 0, 0, 1, 0, 1, 0, 1, 0, 0,\n",
            "        0, 0, 0, 0, 0, 0, 1, 0], device='cuda:0') tensor([1, 0, 0, 0, 0, 1, 1, 1, 0, 1, 1, 1, 0, 0, 1, 0, 0, 1, 0, 1, 0, 1, 0, 0,\n",
            "        0, 0, 0, 0, 0, 0, 1, 0], device='cuda:0')\n",
            "tensor([0.3818, 0.3468, 0.3739, 0.3788, 0.3715, 0.3792, 0.3819, 0.3868, 0.3818,\n",
            "        0.3790, 0.3858, 0.3265, 0.3445, 0.3398, 0.3827, 0.3714, 0.3717, 0.3795,\n",
            "        0.3785, 0.3816, 0.3823, 0.3467, 0.3202, 0.3796, 0.3734, 0.3805, 0.3818,\n",
            "        0.3826, 0.3792, 0.3815, 0.3820, 0.3817], device='cuda:0')\n",
            "tensor(0.6579, device='cuda:0')\n",
            "\n"
          ]
        },
        {
          "output_type": "stream",
          "name": "stderr",
          "text": [
            "\r 64%|██████▎   | 7/11 [00:05<00:02,  1.35it/s]"
          ]
        },
        {
          "output_type": "stream",
          "name": "stdout",
          "text": [
            "tensor([[-0.5263],\n",
            "        [-0.4720],\n",
            "        [-0.6336],\n",
            "        [-0.4826],\n",
            "        [-0.4957],\n",
            "        [-0.4933],\n",
            "        [-0.4807],\n",
            "        [-0.5321],\n",
            "        [-0.4798],\n",
            "        [-0.6364],\n",
            "        [-0.4874],\n",
            "        [-0.4769],\n",
            "        [-0.4835],\n",
            "        [-0.6612],\n",
            "        [-0.4963],\n",
            "        [-0.4767],\n",
            "        [-0.4793],\n",
            "        [-0.4805],\n",
            "        [-0.5187],\n",
            "        [-0.4811],\n",
            "        [-0.4628],\n",
            "        [-0.6668],\n",
            "        [-0.4885],\n",
            "        [-0.5329],\n",
            "        [-0.4917],\n",
            "        [-0.4770],\n",
            "        [-0.5088],\n",
            "        [-0.4911],\n",
            "        [-0.4777],\n",
            "        [-0.4855],\n",
            "        [-0.4825],\n",
            "        [-0.4857]], device='cuda:0') tensor([0, 0, 1, 1, 1, 0, 1, 1, 1, 0, 1, 1, 1, 1, 0, 1, 0, 0, 0, 0, 0, 0, 1, 0,\n",
            "        0, 1, 1, 0, 0, 1, 0, 1], device='cuda:0') tensor([0, 0, 1, 1, 1, 0, 1, 1, 1, 0, 1, 1, 1, 1, 0, 1, 0, 0, 0, 0, 0, 0, 1, 0,\n",
            "        0, 1, 1, 0, 0, 1, 0, 1], device='cuda:0')\n",
            "tensor([0.3714, 0.3841, 0.3467, 0.3816, 0.3785, 0.3791, 0.3821, 0.3700, 0.3823,\n",
            "        0.3461, 0.3805, 0.3830, 0.3814, 0.3405, 0.3784, 0.3830, 0.3824, 0.3821,\n",
            "        0.3732, 0.3820, 0.3863, 0.3392, 0.3803, 0.3698, 0.3795, 0.3830, 0.3755,\n",
            "        0.3796, 0.3828, 0.3810, 0.3817, 0.3809], device='cuda:0')\n",
            "tensor(0.7248, device='cuda:0')\n",
            "\n"
          ]
        },
        {
          "output_type": "stream",
          "name": "stderr",
          "text": [
            "\r 73%|███████▎  | 8/11 [00:05<00:02,  1.36it/s]"
          ]
        },
        {
          "output_type": "stream",
          "name": "stdout",
          "text": [
            "tensor([[-0.4803],\n",
            "        [-0.4874],\n",
            "        [-0.4772],\n",
            "        [-0.5129],\n",
            "        [-0.4752],\n",
            "        [-0.4637],\n",
            "        [-0.4857],\n",
            "        [-0.5229],\n",
            "        [-0.4774],\n",
            "        [-0.6647],\n",
            "        [-0.4767],\n",
            "        [-0.6184],\n",
            "        [-0.4754],\n",
            "        [-0.4791],\n",
            "        [-0.4792],\n",
            "        [-0.4846],\n",
            "        [-0.4768],\n",
            "        [-0.4930],\n",
            "        [-0.4816],\n",
            "        [-0.4530],\n",
            "        [-0.4775],\n",
            "        [-0.4601],\n",
            "        [-0.4786],\n",
            "        [-0.5163],\n",
            "        [-0.5110],\n",
            "        [-0.5110],\n",
            "        [-0.5325],\n",
            "        [-0.4678],\n",
            "        [-0.6725],\n",
            "        [-0.4929],\n",
            "        [-0.4758],\n",
            "        [-0.4795]], device='cuda:0') tensor([0, 0, 1, 0, 1, 1, 1, 0, 1, 1, 1, 0, 1, 0, 1, 1, 1, 0, 0, 1, 0, 1, 1, 0,\n",
            "        1, 1, 0, 1, 0, 0, 1, 1], device='cuda:0') tensor([0, 0, 1, 0, 1, 1, 1, 0, 1, 1, 1, 0, 1, 0, 1, 1, 1, 0, 0, 1, 0, 1, 1, 0,\n",
            "        1, 1, 0, 1, 0, 0, 1, 1], device='cuda:0')\n",
            "tensor([0.3822, 0.3805, 0.3829, 0.3745, 0.3834, 0.3861, 0.3809, 0.3722, 0.3829,\n",
            "        0.3397, 0.3830, 0.3501, 0.3833, 0.3825, 0.3824, 0.3812, 0.3830, 0.3792,\n",
            "        0.3819, 0.3886, 0.3828, 0.3870, 0.3826, 0.3737, 0.3750, 0.3750, 0.3699,\n",
            "        0.3851, 0.3379, 0.3792, 0.3833, 0.3824], device='cuda:0')\n",
            "tensor(0.7637, device='cuda:0')\n",
            "\n"
          ]
        },
        {
          "output_type": "stream",
          "name": "stderr",
          "text": [
            "\r 82%|████████▏ | 9/11 [00:06<00:01,  1.35it/s]"
          ]
        },
        {
          "output_type": "stream",
          "name": "stdout",
          "text": [
            "tensor([[-0.4998],\n",
            "        [-0.4844],\n",
            "        [-0.4828],\n",
            "        [-0.6993],\n",
            "        [-0.4950],\n",
            "        [-0.6422],\n",
            "        [-0.4919],\n",
            "        [-0.5101],\n",
            "        [-0.4834],\n",
            "        [-0.4812],\n",
            "        [-0.4856],\n",
            "        [-0.4870],\n",
            "        [-0.4908],\n",
            "        [-0.4774],\n",
            "        [-0.4624],\n",
            "        [-0.4821],\n",
            "        [-0.4779],\n",
            "        [-0.4912],\n",
            "        [-0.4796],\n",
            "        [-0.4850],\n",
            "        [-0.4655],\n",
            "        [-0.4887],\n",
            "        [-0.6647],\n",
            "        [-0.4773],\n",
            "        [-0.4924],\n",
            "        [-0.4838],\n",
            "        [-0.4746],\n",
            "        [-0.4801],\n",
            "        [-0.4804],\n",
            "        [-0.4801],\n",
            "        [-0.4881],\n",
            "        [-0.4775]], device='cuda:0') tensor([1, 1, 1, 0, 0, 1, 1, 0, 1, 0, 1, 0, 0, 1, 1, 1, 0, 0, 0, 0, 1, 0, 0, 1,\n",
            "        0, 1, 1, 1, 0, 0, 0, 0], device='cuda:0') tensor([1, 1, 1, 0, 0, 1, 1, 0, 1, 0, 1, 0, 0, 1, 1, 1, 0, 0, 0, 0, 1, 0, 0, 1,\n",
            "        0, 1, 1, 1, 0, 0, 0, 0], device='cuda:0')\n",
            "tensor([0.3776, 0.3812, 0.3816, 0.3320, 0.3787, 0.3447, 0.3794, 0.3752, 0.3814,\n",
            "        0.3820, 0.3809, 0.3806, 0.3797, 0.3829, 0.3864, 0.3817, 0.3827, 0.3796,\n",
            "        0.3824, 0.3811, 0.3857, 0.3802, 0.3397, 0.3829, 0.3793, 0.3814, 0.3835,\n",
            "        0.3822, 0.3822, 0.3822, 0.3803, 0.3828], device='cuda:0')\n",
            "tensor(0.7043, device='cuda:0')\n",
            "\n"
          ]
        },
        {
          "output_type": "stream",
          "name": "stderr",
          "text": [
            "\r 91%|█████████ | 10/11 [00:07<00:00,  1.35it/s]"
          ]
        },
        {
          "output_type": "stream",
          "name": "stdout",
          "text": [
            "tensor([[-0.4773],\n",
            "        [-0.4858],\n",
            "        [-0.5129],\n",
            "        [-0.6650],\n",
            "        [-0.4828],\n",
            "        [-0.7283],\n",
            "        [-0.5205],\n",
            "        [-0.5318],\n",
            "        [-0.6361],\n",
            "        [-0.4961],\n",
            "        [-0.5101],\n",
            "        [-0.4777],\n",
            "        [-0.5068],\n",
            "        [-0.6380],\n",
            "        [-0.4884],\n",
            "        [-0.4805],\n",
            "        [-0.7650],\n",
            "        [-0.4821],\n",
            "        [-0.7127],\n",
            "        [-0.4815],\n",
            "        [-0.4796],\n",
            "        [-0.4889],\n",
            "        [-0.4838],\n",
            "        [-0.4755],\n",
            "        [-0.4789],\n",
            "        [-0.4964],\n",
            "        [-0.4771],\n",
            "        [-0.4789],\n",
            "        [-0.4829],\n",
            "        [-0.4835],\n",
            "        [-0.5288],\n",
            "        [-0.4758]], device='cuda:0') tensor([1, 1, 1, 1, 0, 1, 0, 0, 0, 0, 1, 0, 1, 0, 0, 1, 0, 0, 1, 0, 0, 1, 1, 0,\n",
            "        1, 1, 0, 1, 1, 0, 1, 1], device='cuda:0') tensor([1, 1, 1, 1, 0, 1, 0, 0, 0, 0, 1, 0, 1, 0, 0, 1, 0, 0, 1, 0, 0, 1, 1, 0,\n",
            "        1, 1, 0, 1, 1, 0, 1, 1], device='cuda:0')\n",
            "tensor([0.3829, 0.3809, 0.3745, 0.3396, 0.3816, 0.3256, 0.3727, 0.3701, 0.3461,\n",
            "        0.3785, 0.3752, 0.3828, 0.3759, 0.3457, 0.3803, 0.3821, 0.3176, 0.3817,\n",
            "        0.3290, 0.3819, 0.3824, 0.3802, 0.3813, 0.3833, 0.3825, 0.3784, 0.3829,\n",
            "        0.3825, 0.3816, 0.3814, 0.3708, 0.3832], device='cuda:0')\n",
            "tensor(0.7453, device='cuda:0')\n",
            "\n"
          ]
        },
        {
          "output_type": "stream",
          "name": "stderr",
          "text": [
            "100%|██████████| 11/11 [00:07<00:00,  1.42it/s]"
          ]
        },
        {
          "output_type": "stream",
          "name": "stdout",
          "text": [
            "tensor([[-0.4826],\n",
            "        [-0.4781],\n",
            "        [-0.4693],\n",
            "        [-0.4642],\n",
            "        [-0.4883],\n",
            "        [-0.4753],\n",
            "        [-0.4735],\n",
            "        [-0.5207],\n",
            "        [-0.4813],\n",
            "        [-0.6595]], device='cuda:0') tensor([0, 1, 1, 1, 0, 1, 1, 0, 1, 0], device='cuda:0') tensor([0, 1, 1, 1, 0, 1, 1, 0, 1, 0], device='cuda:0')\n",
            "tensor([0.3816, 0.3827, 0.3848, 0.3860, 0.3803, 0.3834, 0.3838, 0.3727, 0.3820,\n",
            "        0.3409], device='cuda:0')\n",
            "tensor(0.7589, device='cuda:0')\n",
            "\n"
          ]
        },
        {
          "output_type": "stream",
          "name": "stderr",
          "text": [
            "\n"
          ]
        }
      ]
    },
    {
      "cell_type": "code",
      "metadata": {
        "id": "jATKMnt62kgR",
        "colab": {
          "base_uri": "https://localhost:8080/"
        },
        "outputId": "3fcd00f0-682f-4f63-f299-3a39f3cc945e"
      },
      "source": [
        "full_model.eval()\n",
        "total_acc_val = 0\n",
        "total_loss_val = 0\n",
        "text_embeddings = []\n",
        "image_embeddings = []\n",
        "images = []\n",
        "with torch.no_grad():\n",
        "    for lstm, cnn in tqdm.tqdm(zip(text_val_loader, img_val_loader), total=len(text_val_loader)):\n",
        "        lstm_inp1, lstm_inp2, lstm_labels = lstm\n",
        "        cnn_inp1, cnn_inp2, cnn_labels = cnn\n",
        "        text_embeddings.append(full_model.clip_model.encode_text(lstm_inp1.cuda()).cpu().numpy())\n",
        "        image_embeddings.append(full_model.clip_model.encode_image(cnn_inp1.cuda()).cpu().numpy())\n",
        "        images.append(cnn_inp1.cpu().numpy())"
      ],
      "id": "jATKMnt62kgR",
      "execution_count": null,
      "outputs": [
        {
          "output_type": "stream",
          "name": "stderr",
          "text": [
            "100%|██████████| 42/42 [00:05<00:00,  8.24it/s]\n"
          ]
        }
      ]
    },
    {
      "cell_type": "code",
      "metadata": {
        "id": "KY-dRfQPCqGf"
      },
      "source": [
        "text_embeddings = np.concatenate(text_embeddings, axis=0)\n",
        "image_embeddings = np.concatenate(image_embeddings, axis=0)\n",
        "images = np.concatenate(images, axis=0)"
      ],
      "id": "KY-dRfQPCqGf",
      "execution_count": null,
      "outputs": []
    },
    {
      "cell_type": "code",
      "metadata": {
        "colab": {
          "base_uri": "https://localhost:8080/"
        },
        "id": "aqWMpWcsE8uA",
        "outputId": "551fc3d5-f2c2-44cb-b42e-0711ebd25b6a"
      },
      "source": [
        "def cosine_sim(x, y):\n",
        "    return np.dot(x, y) / (np.linalg.norm(x) * np.linalg.norm(y))\n",
        "# for i in range(len(text_embeddings)):\n",
        "#     print(cosine_sim(text_embeddings[i], image_embeddings[i]), np.array([cosine_sim(text_embeddings[i], img) for img in image_embeddings]))\n",
        "#     break\n",
        "np.allclose(image_embeddings[0], image_embeddings[1])"
      ],
      "id": "aqWMpWcsE8uA",
      "execution_count": null,
      "outputs": [
        {
          "output_type": "execute_result",
          "data": {
            "text/plain": [
              "False"
            ]
          },
          "metadata": {},
          "execution_count": 17
        }
      ]
    },
    {
      "cell_type": "code",
      "metadata": {
        "colab": {
          "base_uri": "https://localhost:8080/",
          "height": 1000
        },
        "id": "OKOvpFsuCK-Q",
        "outputId": "fa578f91-d8a2-41a3-ecbf-74ec772b2b3d"
      },
      "source": [
        "from sklearn.manifold import TSNE\n",
        "\n",
        "plt.figure(figsize=(8, 8), dpi=180)\n",
        "reduced = TSNE().fit_transform(image_embeddings)\n",
        "sample_indexes = np.random.choice(len(reduced), size=200, replace=False)\n",
        "plt.scatter(reduced[:,0], reduced[:,1])\n",
        "# width = 0.5\n",
        "# for i in sample_indexes:\n",
        "#     plt.imshow((np.moveaxis(images[i], 0, 2) + 2) / 2, extent=(reduced[i,0] - width / 2, reduced[i,0] + width / 2, reduced[i,1] - width / 2, reduced[i,1] + width / 2))\n",
        "# plt.xlim(reduced[:,0].min(), reduced[:,0].max())\n",
        "# plt.ylim(reduced[:,1].min(), reduced[:,1].max())\n",
        "plt.show()"
      ],
      "id": "OKOvpFsuCK-Q",
      "execution_count": null,
      "outputs": [
        {
          "output_type": "display_data",
          "data": {
            "image/png": "[encoded data removed]",
            "text/plain": [
              "<Figure size 1440x1440 with 1 Axes>"
            ]
          },
          "metadata": {
            "needs_background": "light"
          }
        }
      ]
    },
    {
      "cell_type": "code",
      "metadata": {
        "id": "vrVI191CDezD"
      },
      "source": [
        ""
      ],
      "id": "vrVI191CDezD",
      "execution_count": null,
      "outputs": []
    }
  ]
}