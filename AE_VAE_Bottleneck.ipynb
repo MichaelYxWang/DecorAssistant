{
  "nbformat": 4,
  "nbformat_minor": 0,
  "metadata": {
    "kernelspec": {
      "display_name": "Python 3",
      "language": "python",
      "name": "python3"
    },
    "language_info": {
      "codemirror_mode": {
        "name": "ipython",
        "version": 3
      },
      "file_extension": ".py",
      "mimetype": "text/x-python",
      "name": "python",
      "nbconvert_exporter": "python",
      "pygments_lexer": "ipython3",
      "version": "3.7.4"
    },
    "colab": {
      "name": "AE and VAE Experiments.ipynb",
      "provenance": [],
      "collapsed_sections": []
    },
    "accelerator": "GPU"
  },
  "cells": [
    {
      "cell_type": "code",
      "metadata": {
        "id": "mSXdwJDmjQsF"
      },
      "source": [
        "import torch\n",
        "import torchvision\n",
        "import torch.nn as nn\n",
        "import torch.nn.functional as F\n",
        "from torch.utils.data import DataLoader\n",
        "from torchvision import datasets, transforms\n",
        "from torchvision.utils import save_image\n",
        "import matplotlib.pyplot as plt\n",
        "import numpy as np\n",
        "import random"
      ],
      "execution_count": 42,
      "outputs": []
    },
    {
      "cell_type": "code",
      "metadata": {
        "id": "_QWfeNarjQsJ"
      },
      "source": [
        "batch_size = 128\n",
        "learning_rate = 1e-3 # IKEA\n",
        "# learning_rate = 1e-4 # MNIST (easier)\n",
        "num_epochs = 150\n",
        "device = torch.device('cuda' if torch.cuda.is_available() else 'cpu')\n",
        "\n",
        "# IKEA\n",
        "from google.colab import drive\n",
        "drive.mount('/content/drive')\n",
        "# root_dir =  \"/content/drive/Othercomputers/My MacBook Pro/GitHub/DecorAssist/dataset/images/classified/\"\n",
        "root_dir = \"drive/MyDrive/DecorAssist/dataset/images/classified/\"\n",
        "categories = ['bed', 'chair', 'clock', 'couch', 'dining table', 'objects', 'plant_pot']\n",
        "data = torchvision.datasets.ImageFolder(root=root_dir, transform=transforms.Compose([transforms.Resize(28), transforms.CenterCrop(28), transforms.ToTensor()]))\n",
        "data_subset = torch.utils.data.Subset(data, range(0, len(data), 10)) # Use subset of dataset\n",
        "data_loader = torch.utils.data.DataLoader(dataset=data_subset, batch_size=batch_size, shuffle=True)\n",
        "\n",
        "# MNIST\n",
        "# data_loader = torch.utils.data.DataLoader(datasets.MNIST('data', train=True, download=True, transform=transforms.ToTensor()), batch_size=batch_size, shuffle=True)"
      ],
      "execution_count": null,
      "outputs": []
    },
    {
      "cell_type": "markdown",
      "metadata": {
        "id": "j1Zs5Ly6vWXT"
      },
      "source": [
        "# Convolutional Autoencoder"
      ]
    },
    {
      "cell_type": "code",
      "metadata": {
        "id": "XY7gjD0fmvnE"
      },
      "source": [
        "class AE(nn.Module):\n",
        "  def __init__(self, img_channels=3, feature_dim=32*20*20, z_dim=256): # IKEA\n",
        "  # def __init__(self, img_channels=1, feature_dim=32*20*20, z_dim=256): # MNIST\n",
        "    super(AE, self).__init__()\n",
        "    self.encoder_conv1 = nn.Conv2d(img_channels, 16, 5)\n",
        "    self.encoder_conv2 = nn.Conv2d(16, 32, 5) \n",
        "    self.encoder_fc = nn.Linear(feature_dim, z_dim)\n",
        "    self.decoder_fc = nn.Linear(z_dim, feature_dim)\n",
        "    self.decoder_conv1 = nn.ConvTranspose2d(32, 16, 5)\n",
        "    self.decoder_conv2 = nn.ConvTranspose2d(16, img_channels, 5)\n",
        "      \n",
        "  def encoder(self, x):\n",
        "    x = F.relu(self.encoder_conv1(x))\n",
        "    x = F.relu(self.encoder_conv2(x))\n",
        "    x = x.view(-1, 32*20*20)\n",
        "    x = self.encoder_fc(x)\n",
        "    return x\n",
        "  \n",
        "  def decoder(self, z):\n",
        "    x = F.relu(self.decoder_fc(z))\n",
        "    x = x.view(-1, 32, 20, 20)\n",
        "    x = F.relu(self.decoder_conv1(x))\n",
        "    x = torch.sigmoid(self.decoder_conv2(x))\n",
        "    return x\n",
        "      \n",
        "  def forward(self, x):\n",
        "    z = self.encoder(x)\n",
        "    out = self.decoder(z)\n",
        "    return out, z"
      ],
      "execution_count": 3,
      "outputs": []
    },
    {
      "cell_type": "code",
      "metadata": {
        "id": "ujoIqqOJoKGY"
      },
      "source": [
        "ae = AE().to(device)\n",
        "optimizer = torch.optim.Adam(ae.parameters(), lr=learning_rate)\n",
        "criterion = nn.MSELoss()"
      ],
      "execution_count": 4,
      "outputs": []
    },
    {
      "cell_type": "code",
      "metadata": {
        "id": "X3PavGtaoaMS"
      },
      "source": [
        "for epoch in range(num_epochs):\n",
        "  for idx, data in enumerate(data_loader, 0):\n",
        "    imgs, _ = data\n",
        "    imgs = imgs.to(device)\n",
        "    out, z = ae(imgs)\n",
        "    loss = criterion(out, imgs)\n",
        "    optimizer.zero_grad()\n",
        "    loss.backward()\n",
        "    optimizer.step()\n",
        "  print(f'Epoch {epoch}: Loss {loss}')"
      ],
      "execution_count": null,
      "outputs": []
    },
    {
      "cell_type": "code",
      "metadata": {
        "colab": {
          "base_uri": "https://localhost:8080/",
          "height": 339
        },
        "id": "f8bdfWfUtxpy",
        "outputId": "49f5ba87-b292-49a3-b7f9-00fe40689e27"
      },
      "source": [
        "ae.eval()\n",
        "with torch.no_grad():\n",
        "  for data in random.sample(list(data_loader), 1):\n",
        "    imgs, _ = data\n",
        "    imgs = imgs.to(device)\n",
        "    img = np.transpose(imgs[0].cpu().numpy(), [1,2,0])\n",
        "    plt.subplot(121)\n",
        "    plt.imshow(np.squeeze(img))\n",
        "    out, z = ae(imgs)\n",
        "    outimg = np.transpose(out[0].cpu().numpy(), [1,2,0])\n",
        "    plt.subplot(122)\n",
        "    plt.imshow(np.squeeze(outimg))\n",
        "    print(f'Bottleneck: {z}')"
      ],
      "execution_count": 13,
      "outputs": [
        {
          "output_type": "stream",
          "name": "stdout",
          "text": [
            "Bottleneck: tensor([[-6.6227, -1.3525, -3.1384,  ...,  2.1681, -0.0973, -7.9962],\n",
            "        [-3.7087, -1.1112, -2.0577,  ...,  4.3968,  1.1533, -6.8199],\n",
            "        [-4.5368, -1.7289,  1.6727,  ...,  1.4147, -1.7528, -5.8558],\n",
            "        ...,\n",
            "        [-6.6801, -4.1595,  4.1725,  ...,  3.0216, -2.1396, -2.8020],\n",
            "        [-8.6115, -5.8840,  3.9100,  ...,  3.0324, -1.9458, -4.6720],\n",
            "        [-2.9439, -0.1167,  0.2744,  ...,  2.7079,  0.5002, -4.7465]],\n",
            "       device='cuda:0')\n"
          ]
        },
        {
          "output_type": "display_data",
          "data": {
            "image/png": "[encoded data removed]",
            "text/plain": [
              "<Figure size 432x288 with 2 Axes>"
            ]
          },
          "metadata": {
            "needs_background": "light"
          }
        }
      ]
    },
    {
      "cell_type": "markdown",
      "metadata": {
        "id": "wPud_lGvvZya"
      },
      "source": [
        "# Convolutional Variational Autoencoder"
      ]
    },
    {
      "cell_type": "code",
      "metadata": {
        "id": "6b_g7ZumjQsK"
      },
      "source": [
        "class VAE(nn.Module):\n",
        "  def __init__(self, img_channels=3, feature_dim=32*20*20, z_dim=256): # IKEA\n",
        "  # def __init__(self, img_channels=1, feature_dim=32*20*20, z_dim=256): # MNIST\n",
        "    super(VAE, self).__init__()\n",
        "    self.encoder_conv1 = nn.Conv2d(img_channels, 16, 5)\n",
        "    self.encoder_conv2 = nn.Conv2d(16, 32, 5) \n",
        "    self.encoder_fc1 = nn.Linear(feature_dim, z_dim)\n",
        "    self.encoder_fc2 = nn.Linear(feature_dim, z_dim)\n",
        "    self.decoder_fc = nn.Linear(z_dim, feature_dim)\n",
        "    self.decoder_conv1 = nn.ConvTranspose2d(32, 16, 5)\n",
        "    self.decoder_conv2 = nn.ConvTranspose2d(16, img_channels, 5)\n",
        "      \n",
        "  def encoder(self, x):\n",
        "    x = F.relu(self.encoder_conv1(x))\n",
        "    x = F.relu(self.encoder_conv2(x))\n",
        "    x = x.view(-1, 32*20*20)\n",
        "    mu = self.encoder_fc1(x)\n",
        "    logVar = self.encoder_fc2(x)\n",
        "    return mu, logVar\n",
        "  \n",
        "  def reparameterize(self, mu, logVar):\n",
        "    std = torch.exp(logVar / 2)\n",
        "    eps = torch.randn_like(std)\n",
        "    return mu + std * eps, std, eps\n",
        "  \n",
        "  def decoder(self, z):\n",
        "    x = F.relu(self.decoder_fc(z))\n",
        "    x = x.view(-1, 32, 20, 20)\n",
        "    x = F.relu(self.decoder_conv1(x))\n",
        "    x = torch.sigmoid(self.decoder_conv2(x))\n",
        "    return x\n",
        "    \n",
        "  def forward(self, x):\n",
        "    mu, logVar = self.encoder(x)\n",
        "    z, std, eps = self.reparameterize(mu, logVar)\n",
        "    out = self.decoder(z)\n",
        "    return out, mu, std, eps, logVar"
      ],
      "execution_count": 14,
      "outputs": []
    },
    {
      "cell_type": "code",
      "metadata": {
        "id": "DFxs7ss5jQsL"
      },
      "source": [
        "vae = VAE().to(device)\n",
        "optimizer = torch.optim.Adam(vae.parameters(), lr=learning_rate)"
      ],
      "execution_count": 15,
      "outputs": []
    },
    {
      "cell_type": "code",
      "metadata": {
        "id": "46t5CgdijQsM"
      },
      "source": [
        "for epoch in range(num_epochs):\n",
        "  for idx, data in enumerate(data_loader, 0):\n",
        "    imgs, _ = data\n",
        "    imgs = imgs.to(device)\n",
        "    out, mu, std, eps, logVar = vae(imgs)\n",
        "    kl_divergence = 0.5 * torch.sum(-1 - logVar + mu.pow(2) + logVar.exp())\n",
        "    loss = F.binary_cross_entropy(out, imgs, size_average=False) + kl_divergence\n",
        "    optimizer.zero_grad()\n",
        "    loss.backward()\n",
        "    optimizer.step()\n",
        "  print(f'Epoch {epoch}: Loss {loss}')"
      ],
      "execution_count": null,
      "outputs": []
    },
    {
      "cell_type": "code",
      "metadata": {
        "colab": {
          "base_uri": "https://localhost:8080/",
          "height": 339
        },
        "id": "PB8MVRCkjQsN",
        "outputId": "806ae765-d3b1-42c6-e27b-909a0012d189"
      },
      "source": [
        "vae.eval()\n",
        "with torch.no_grad():\n",
        "  for data in random.sample(list(data_loader), 1):\n",
        "    imgs, _ = data\n",
        "    imgs = imgs.to(device)\n",
        "    img = np.transpose(imgs[0].cpu().numpy(), [1,2,0])\n",
        "    plt.subplot(121)\n",
        "    plt.imshow(np.squeeze(img))\n",
        "    out, mu, std, eps, logVar = vae(imgs)\n",
        "    outimg = np.transpose(out[0].cpu().numpy(), [1,2,0])\n",
        "    plt.subplot(122)\n",
        "    plt.imshow(np.squeeze(outimg))\n",
        "    print(f'Bottleneck: {mu + std * eps}')"
      ],
      "execution_count": 41,
      "outputs": [
        {
          "output_type": "stream",
          "name": "stdout",
          "text": [
            "Bottleneck: tensor([[ 1.6117,  0.4845, -1.2006,  ...,  0.5636,  0.0331,  1.9047],\n",
            "        [-0.1242,  0.9789,  1.7679,  ...,  0.8869, -1.5984,  0.2388],\n",
            "        [-0.4619, -0.5372,  0.0174,  ...,  0.2554,  0.0933,  0.0913],\n",
            "        ...,\n",
            "        [-1.7102, -2.0688,  0.6616,  ...,  0.1043,  0.4928,  0.6424],\n",
            "        [ 0.2142, -1.1699, -0.3483,  ...,  0.0251,  1.7029,  0.1538],\n",
            "        [-0.0462, -0.8881,  0.1090,  ...,  0.7646,  0.6425, -0.1548]],\n",
            "       device='cuda:0')\n"
          ]
        },
        {
          "output_type": "display_data",
          "data": {
            "image/png": "[encoded data removed]",
            "text/plain": [
              "<Figure size 432x288 with 2 Axes>"
            ]
          },
          "metadata": {
            "needs_background": "light"
          }
        }
      ]
    }
  ]
}